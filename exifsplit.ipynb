{
 "cells": [
  {
   "cell_type": "markdown",
   "metadata": {},
   "source": [
    "Script to move image files to sub folders based on camera make and model\n",
    "Requires exiftool http://www.sno.phy.queensu.ca/~phil/exiftool/"
   ]
  },
  {
   "cell_type": "code",
   "execution_count": 106,
   "metadata": {
    "collapsed": true
   },
   "outputs": [],
   "source": [
    "import sys,os,shutil"
   ]
  },
  {
   "cell_type": "code",
   "execution_count": 116,
   "metadata": {
    "collapsed": true
   },
   "outputs": [],
   "source": [
    "# config\n",
    "# directory where the images are stored\n",
    "dirPath = \"/path_to_the_pictures\"\n",
    "# True - will not move files only print the info\n",
    "# False - will create subfolders and move files\n",
    "debugMode = True "
   ]
  },
  {
   "cell_type": "code",
   "execution_count": 117,
   "metadata": {
    "collapsed": true
   },
   "outputs": [],
   "source": [
    "class Exif:\n",
    "    def __init__(self,file):\n",
    "        self.file = file\n",
    "        self.make = None\n",
    "        self.model = None"
   ]
  },
  {
   "cell_type": "code",
   "execution_count": 120,
   "metadata": {
    "collapsed": false
   },
   "outputs": [],
   "source": [
    "cmdLine = \"exiftool -s -Make -Model \"+dirPath+\"*.*\"\n",
    "fileContents = os.popen(cmdLine).read()\n",
    "lines = fileContents.split('\\n')"
   ]
  },
  {
   "cell_type": "code",
   "execution_count": 119,
   "metadata": {
    "collapsed": false
   },
   "outputs": [],
   "source": [
    "newLine = \"\"\n",
    "counter = 0\n",
    "list = []\n",
    "for line in lines:\n",
    "    #print(line)\n",
    "    if counter < 5000:\n",
    "        counter = counter+1\n",
    "        if(line[:1]==\"=\"):\n",
    "              newLine = line[9:]\n",
    "              exif = Exif(newLine)\n",
    "              list.append(exif)\n",
    "        if(line[:4]==\"Make\"):\n",
    "            newLine = line[line.index(':')+2:].replace(' ','')\n",
    "            list[len(list)-1].make = newLine\n",
    "        if(line[:5]==\"Model\"):\n",
    "            newLine = line[line.index(':')+2:].replace(' ','')\n",
    "            list[len(list)-1].model = newLine\n",
    "            \n"
   ]
  },
  {
   "cell_type": "code",
   "execution_count": 115,
   "metadata": {
    "collapsed": false
   },
   "outputs": [
    {
     "name": "stdout",
     "output_type": "stream",
     "text": [
      "creating directory: /Users/marcin/Projects/exifsplit/pics/Apple_iPhone4\n",
      "/Users/marcin/Projects/exifsplit/pics/20160204_IMG_0239.JPG->/Users/marcin/Projects/exifsplit/pics/Apple_iPhone4/20160204_IMG_0239.JPG\n",
      "creating directory: /Users/marcin/Projects/exifsplit/pics/Apple_iPhone6s\n",
      "/Users/marcin/Projects/exifsplit/pics/20160207_IMG_1161.JPG->/Users/marcin/Projects/exifsplit/pics/Apple_iPhone6s/20160207_IMG_1161.JPG\n"
     ]
    }
   ],
   "source": [
    "for item in list:\n",
    "    filePath = item.file\n",
    "    file = os.path.basename(filePath)\n",
    "    folder = item.make+'_'+item.model\n",
    "    folderPath = dirPath + folder\n",
    "    newFilePath = folderPath +\"/\"+ file\n",
    "    if not os.path.isdir(folderPath):\n",
    "        print('creating directory: '+folderPath)\n",
    "        if(debugMode==False):\n",
    "            os.mkdir(folderPath)\n",
    "    if os.path.exists(filePath):\n",
    "        print(filePath+'->'+newFilePath)\n",
    "        if(debugMode==False):\n",
    "            shutil.move(filePath,newFilePath)"
   ]
  },
  {
   "cell_type": "code",
   "execution_count": null,
   "metadata": {
    "collapsed": true
   },
   "outputs": [],
   "source": []
  }
 ],
 "metadata": {
  "kernelspec": {
   "display_name": "Python 3",
   "language": "python",
   "name": "python3"
  },
  "language_info": {
   "codemirror_mode": {
    "name": "ipython",
    "version": 3
   },
   "file_extension": ".py",
   "mimetype": "text/x-python",
   "name": "python",
   "nbconvert_exporter": "python",
   "pygments_lexer": "ipython3",
   "version": "3.5.1"
  }
 },
 "nbformat": 4,
 "nbformat_minor": 0
}
